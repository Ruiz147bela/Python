{
  "nbformat": 4,
  "nbformat_minor": 0,
  "metadata": {
    "colab": {
      "provenance": []
    },
    "kernelspec": {
      "name": "python3",
      "display_name": "Python 3"
    },
    "language_info": {
      "name": "python"
    }
  },
  "cells": [
    {
      "cell_type": "code",
      "source": [
        "def greet_user():\n",
        "  print(\"Hello!\")\n",
        "\n",
        "greet_user()"
      ],
      "metadata": {
        "colab": {
          "base_uri": "https://localhost:8080/"
        },
        "id": "D92zO3a7FNr4",
        "outputId": "321ff7d1-cd39-4935-d890-9f5cd1d7b0c6"
      },
      "execution_count": 126,
      "outputs": [
        {
          "output_type": "stream",
          "name": "stdout",
          "text": [
            "Hello!\n"
          ]
        }
      ]
    },
    {
      "cell_type": "code",
      "source": [
        "def greet_user(username):\n",
        "  print(\"Hello, \" + username.title() + \"!\")\n",
        "\n",
        "greet_user('ana')"
      ],
      "metadata": {
        "colab": {
          "base_uri": "https://localhost:8080/"
        },
        "id": "XgUVT-4GFs7s",
        "outputId": "8cceb0d0-58b5-4ed3-8b48-7b0337b9f635"
      },
      "execution_count": 130,
      "outputs": [
        {
          "output_type": "stream",
          "name": "stdout",
          "text": [
            "Hello, Ana!\n"
          ]
        }
      ]
    },
    {
      "cell_type": "code",
      "source": [
        "def describe_pet(animal_type, pet_name):\n",
        "  print(\"\\n I have a \" + animal_type)\n",
        "  print(\"My \"+ animal_type + \"'s name is \" + pet_name)\n",
        "\n",
        "describe_pet('hamster','Harry')"
      ],
      "metadata": {
        "colab": {
          "base_uri": "https://localhost:8080/"
        },
        "id": "Vi7FNdE8F0yD",
        "outputId": "1e74e580-e59a-47b7-93ea-00f4b331aab4"
      },
      "execution_count": 132,
      "outputs": [
        {
          "output_type": "stream",
          "name": "stdout",
          "text": [
            "\n",
            " I have a hamster\n",
            "My hamster's name is Harry\n"
          ]
        }
      ]
    },
    {
      "cell_type": "code",
      "source": [
        "def get_formatted_name(first_name,last_name):\n",
        "  full_name = first_name + ' ' + last_name\n",
        "  return full_name.title()\n",
        "\n",
        "musician = get_formatted_name('David','Hendrix')\n",
        "print(musician)"
      ],
      "metadata": {
        "colab": {
          "base_uri": "https://localhost:8080/"
        },
        "id": "DgR3nocOGUnN",
        "outputId": "f86f3ee8-eb88-4127-dd59-8d8fee1c9c17"
      },
      "execution_count": 134,
      "outputs": [
        {
          "output_type": "stream",
          "name": "stdout",
          "text": [
            "David Hendrix\n"
          ]
        }
      ]
    },
    {
      "cell_type": "code",
      "source": [],
      "metadata": {
        "id": "0avUQ6qQG4AH"
      },
      "execution_count": null,
      "outputs": []
    }
  ]
}